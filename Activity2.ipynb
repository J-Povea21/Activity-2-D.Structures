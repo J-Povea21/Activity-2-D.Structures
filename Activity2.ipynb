{
 "cells": [
  {
   "cell_type": "markdown",
   "source": [
    "# Solución de los ejercicios de la actividad #2\n",
    " Integrantes:\n",
    " - Carlos Elías López Gallardo\n",
    "  - Juan Andrés Povea Fernández"
   ],
   "metadata": {
    "collapsed": false
   }
  },
  {
   "cell_type": "markdown",
   "source": [
    "# Ejercicio 1:\n",
    "Dadas dos listas simples enlazadas ya creadas cuyos inicios son PTR1 y PTR2, hacer un algoritmo que elimine de la lista PTR1 los elementos en común entre las dos listas. Nota: No se puede asumir que las listas están ordenadas."
   ],
   "metadata": {
    "collapsed": false
   }
  },
  {
   "cell_type": "code",
   "execution_count": 55,
   "metadata": {
    "collapsed": true
   },
   "outputs": [
    {
     "name": "stdout",
     "output_type": "stream",
     "text": [
      "list1: [2, 3, 4, 8, 9, 5, 7] \n",
      " list2: [7, 4, 9, 10, 34]\n",
      "The list1 with the common elements removed is: [2, 3, 8, 5]\n"
     ]
    }
   ],
   "source": [
    "list1 = [2, 3, 4, 8, 9 ,5, 7]\n",
    "list2 = [7, 4, 9, 10, 34]\n",
    "\n",
    "print(f\"list1: {list1} \\n list2: {list2}\")\n",
    "\n",
    "list1 = [item_list1 for item_list1 in list1 if item_list1 not in list2]\n",
    "\n",
    "print(f\"The list1 with the common elements removed is: {list1}\")"
   ]
  },
  {
   "cell_type": "markdown",
   "source": [
    "# Ejercicio 2:\n",
    "Hacer un algoritmo que escriba el número total de elementos diferentes en una lista enlazada ya creada. ¿Cuáles son?"
   ],
   "metadata": {
    "collapsed": false
   }
  },
  {
   "cell_type": "code",
   "execution_count": 15,
   "outputs": [
    {
     "name": "stdout",
     "output_type": "stream",
     "text": [
      "There're 2 unique numbers. These are: [1, 4]\n"
     ]
    }
   ],
   "source": [
    "numbers = [3, 5, 2, 3, 1, 5, 2, 5, 4, 3]\n",
    "unique_numbers = []\n",
    "for number in numbers:\n",
    "    if numbers.count(number) == 1: # If the element is just one time in the list, is unique/different\n",
    "        unique_numbers.append(number)\n",
    "\n",
    "print(f\"There're {len(unique_numbers)} unique numbers. These are: {unique_numbers}\")"
   ],
   "metadata": {
    "collapsed": false
   }
  },
  {
   "cell_type": "markdown",
   "source": [
    "# Ejercicio 3:\n",
    "Hacer un algoritmo que dada una lista simple enlazada ya creada, invierta su sentido. (no puede cambiar la información, solo los enlaces)."
   ],
   "metadata": {
    "collapsed": false
   }
  },
  {
   "cell_type": "code",
   "execution_count": 16,
   "outputs": [
    {
     "name": "stdout",
     "output_type": "stream",
     "text": [
      "The reversed list is: [9, 6, 5, 4, 3]\n"
     ]
    }
   ],
   "source": [
    "numbers = [3, 4, 5, 6, 9]\n",
    "numbers.reverse()\n",
    "print(f\"The reversed list is: {numbers}\")"
   ],
   "metadata": {
    "collapsed": false
   }
  },
  {
   "cell_type": "markdown",
   "source": [
    "# Ejercicio 4:\n",
    "Hacer un algoritmo que realice las siguientes operaciones a medida que recorre una lista:\n",
    "- Si la información del nodo es negativa insertar un nuevo nodo antes de este con información igual a -1000\n",
    "- Si la información del nodo es positiva insertar un nuevo nodo después de este con información igual a 1000\n",
    "- Si la información del nodo es cero eliminarlo.\n",
    "\n",
    "No se permite recorrer la lista más de una vez.\n"
   ],
   "metadata": {
    "collapsed": false
   }
  },
  {
   "cell_type": "code",
   "execution_count": 85,
   "outputs": [
    {
     "name": "stdout",
     "output_type": "stream",
     "text": [
      "[3, 1000, -1000, -4, 5, 1000, -1000, -6, 7, 1000, -1000, -2]\n"
     ]
    }
   ],
   "source": [
    "#2. First solution. We make all the operations inside the same list\n",
    "list = [3, -4, 0, 5, -6, 0, 7, 0, -2]\n",
    "\n",
    "index = 0\n",
    "while index < len(list):\n",
    "    if list[index] < 0:\n",
    "        list.insert(index, -1000)\n",
    "        # if we have [-2, x] then the list will look like [-1000, -2, x] and we want to eval x\n",
    "        index += 2\n",
    "\n",
    "    elif list[index] > 0:\n",
    "        list.insert(index+1, 1000)\n",
    "        index += 2\n",
    "\n",
    "    else:\n",
    "        # The list size will be reduced by 1. So, [-1000,-6, 0,x] -> [-1000, -6, x] so index is in x\n",
    "        list.remove(list[index])\n",
    "\n",
    "print(list)"
   ],
   "metadata": {
    "collapsed": false
   }
  },
  {
   "cell_type": "code",
   "execution_count": 86,
   "outputs": [
    {
     "name": "stdout",
     "output_type": "stream",
     "text": [
      "[3, 1000, -1000, -4, 5, 1000, -1000, -6, 7, 1000, -1000, -2]\n"
     ]
    }
   ],
   "source": [
    "#Second solution. Here we create a new list\n",
    "list = [3, -4, 0, 5, -6, 0, 7, 0, -2]\n",
    "new_list = []\n",
    "\n",
    "for i in range(len(list)):\n",
    "    if list[i] < 0:\n",
    "        new_list.append(-1000)\n",
    "        new_list.append(list[i])\n",
    "    elif list[i] > 0:\n",
    "        new_list.append(list[i])\n",
    "        new_list.append(1000)\n",
    "\n",
    "print(new_list)\n"
   ],
   "metadata": {
    "collapsed": false
   }
  },
  {
   "cell_type": "markdown",
   "source": [
    "Como podemos ver, obtenemos exactamente el mismo resultado"
   ],
   "metadata": {
    "collapsed": false
   }
  },
  {
   "cell_type": "markdown",
   "source": [
    "# Ejercicio 5:\n",
    "Hacer un algoritmo que recorra una lista y regrese dos listas L1 y L2. L1 debe contener los elementos de la lista inicial (sin repetir) y L2 debe contener las veces que se repite ese número."
   ],
   "metadata": {
    "collapsed": false
   }
  },
  {
   "cell_type": "code",
   "execution_count": 27,
   "outputs": [
    {
     "name": "stdout",
     "output_type": "stream",
     "text": [
      "Initial elements of the list without repetition: [1, 2, 3, 4, 5]\n",
      "The number 1 appears 3 time(s) in the initial list\n",
      "The number 2 appears 2 time(s) in the initial list\n",
      "The number 3 appears 1 time(s) in the initial list\n",
      "The number 4 appears 1 time(s) in the initial list\n",
      "The number 5 appears 2 time(s) in the initial list\n"
     ]
    }
   ],
   "source": [
    "list = [1, 2, 3, 2, 1, 4, 5, 5, 1]\n",
    "L1 = []\n",
    "L2 = []\n",
    "\n",
    "for number in list:\n",
    "    if number not in L1:\n",
    "        L1.append(number)\n",
    "        L2.append(1)\n",
    "    else:\n",
    "        index = L1.index(number)\n",
    "        L2[index] = L2[index] + 1\n",
    "\n",
    "print(f\"Initial elements of the list without repetition: {L1}\")\n",
    "index = 0\n",
    "for number in L1:\n",
    "    print(f\"The number {number} appears {L2[index]} time(s) in the initial list\")\n",
    "    index += 1\n"
   ],
   "metadata": {
    "collapsed": false
   }
  },
  {
   "cell_type": "markdown",
   "source": [
    "# Ejercicio 6:\n",
    "Dada una lista enlazada simple ya creada, hacer un algoritmo que vaya formando dos listas (PTR1 y PTR2) con los mismos nodos de la lista inicial de tal forma que en la lista PTR1 vayan quedando todos los elementos positivos, y en la lista PTR2 todos los elementos negativos. Si hay nodos que tengan como información el 0 se eliminan."
   ],
   "metadata": {
    "collapsed": false
   }
  },
  {
   "cell_type": "code",
   "execution_count": 31,
   "outputs": [
    {
     "name": "stdout",
     "output_type": "stream",
     "text": [
      "Negatives list (ptr2): [-2, -8]\n",
      "Positives list (ptr1): [1, 3, 4, 5]\n"
     ]
    }
   ],
   "source": [
    "numbers = [1, -2, 3, 4, 5, -8]\n",
    "\n",
    "negative_numbers = [number for number in numbers if number<0]\n",
    "positive_numbers = [number for number in numbers if number>0]\n",
    "\n",
    "print(f\"Negatives list (ptr2): {negative_numbers}\")\n",
    "print(f\"Positives list (ptr1): {positive_numbers}\")"
   ],
   "metadata": {
    "collapsed": false
   }
  },
  {
   "cell_type": "markdown",
   "source": [
    "# Ejercicio 7:\n",
    "Dadas dos listas enlazadas simples ya creadas (PTR1 y PTR2) ordenadas ascendentemente, hacer un algoritmo que cree una tercera lista PTR3 ordenada descendentemente con los elementos comunes de las dos listas."
   ],
   "metadata": {
    "collapsed": false
   }
  },
  {
   "cell_type": "code",
   "execution_count": 43,
   "outputs": [
    {
     "name": "stdout",
     "output_type": "stream",
     "text": [
      "The new list is: [8, 7, 4, 2]\n"
     ]
    }
   ],
   "source": [
    "ptr1 = [8, 2, 4, 7, 8]\n",
    "ptr2 = [8, 1, 2, 3, 4, 5, 6, 7]\n",
    "ptr3 = []\n",
    "\n",
    "for item_ptr1 in ptr1:\n",
    "    for item_ptr2 in ptr2:\n",
    "        if item_ptr1 == item_ptr2 and item_ptr1 not in ptr3:\n",
    "            ptr3.append(item_ptr1)\n",
    "\n",
    "ptr3.sort(reverse=True)\n",
    "print(f\"The new list is: {ptr3}\")"
   ],
   "metadata": {
    "collapsed": false
   }
  },
  {
   "cell_type": "markdown",
   "source": [
    "# Ejercicio 8:\n",
    "Eliminar el K-ésimo nodo de una lista simple enlazada."
   ],
   "metadata": {
    "collapsed": false
   }
  },
  {
   "cell_type": "code",
   "execution_count": 58,
   "outputs": [
    {
     "name": "stdout",
     "output_type": "stream",
     "text": [
      "k-th term: 7 \n",
      " New list: [2, 3, 4, 5, 9, 87, -32]\n"
     ]
    }
   ],
   "source": [
    "numbers = [2, 3, 4, 5, 9, 87, -32, 45]\n",
    "kth_term = int(input(f\"Type the k-th term to be eliminated. Remember that lists start with 0\"))\n",
    "for index in range(len(numbers)):\n",
    "    if index == kth_term:\n",
    "        numbers.remove(numbers[index])\n",
    "\n",
    "print(f\"k-th term: {kth_term} \\n New list: {numbers}\")"
   ],
   "metadata": {
    "collapsed": false
   }
  },
  {
   "cell_type": "markdown",
   "source": [
    "# Ejercicio 9:\n",
    "Escribir un algoritmo que verifique si dos listas simples son semejantes. Dos listas enlazadas son semejantes si tienen los mismos elementos, no importa el orden. Si un elemento se repite en una lista en la otra debe repetirse igual número de veces."
   ],
   "metadata": {
    "collapsed": false
   }
  },
  {
   "cell_type": "code",
   "execution_count": 53,
   "outputs": [
    {
     "name": "stdout",
     "output_type": "stream",
     "text": [
      "List1: [2, 3, 2, 4] \n",
      " List2: [4, 2, 2, 3]\n",
      "The lists are equal\n"
     ]
    }
   ],
   "source": [
    "import collections\n",
    "L1 = [2, 3, 2, 4]\n",
    "L2 = [4, 2, 2, 3]\n",
    "\n",
    "print(f\"List1: {L1} \\n List2: {L2}\")\n",
    "\n",
    "# This verifies if each number appears the same amount of times and compares the total sum\n",
    "if collections.Counter(L1) == collections.Counter(L2):\n",
    "    print(\"The lists are equal\")\n",
    "else:\n",
    "    print(\"The list are not equal\")"
   ],
   "metadata": {
    "collapsed": false
   }
  }
 ],
 "metadata": {
  "kernelspec": {
   "display_name": "Python 3",
   "language": "python",
   "name": "python3"
  },
  "language_info": {
   "codemirror_mode": {
    "name": "ipython",
    "version": 2
   },
   "file_extension": ".py",
   "mimetype": "text/x-python",
   "name": "python",
   "nbconvert_exporter": "python",
   "pygments_lexer": "ipython2",
   "version": "2.7.6"
  }
 },
 "nbformat": 4,
 "nbformat_minor": 0
}
